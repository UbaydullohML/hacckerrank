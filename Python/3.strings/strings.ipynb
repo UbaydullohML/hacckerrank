{
 "cells": [
  {
   "cell_type": "code",
   "execution_count": 7,
   "metadata": {},
   "outputs": [
    {
     "name": "stdout",
     "output_type": "stream",
     "text": [
      "Python 3.11.5\n"
     ]
    },
    {
     "name": "stderr",
     "output_type": "stream",
     "text": [
      "The syntax of the command is incorrect.\n"
     ]
    }
   ],
   "source": [
    "!python --version\n",
    "!pip --version|"
   ]
  },
  {
   "cell_type": "markdown",
   "metadata": {},
   "source": [
    "## Text-alignment"
   ]
  },
  {
   "cell_type": "code",
   "execution_count": 8,
   "metadata": {},
   "outputs": [
    {
     "name": "stdout",
     "output_type": "stream",
     "text": [
      "60HHHHHHHHHHHHHHHHHHHHHHHHHHHH\n"
     ]
    }
   ],
   "source": [
    "width = 30\n",
    "print('60'.ljust(width,'H'))"
   ]
  },
  {
   "cell_type": "code",
   "execution_count": 9,
   "metadata": {},
   "outputs": [
    {
     "name": "stdout",
     "output_type": "stream",
     "text": [
      "H-------------------\n"
     ]
    }
   ],
   "source": [
    "print(('H').ljust(20,'-'))"
   ]
  },
  {
   "cell_type": "code",
   "execution_count": 4,
   "metadata": {},
   "outputs": [
    {
     "name": "stdout",
     "output_type": "stream",
     "text": [
      "--------------------------------------\n",
      "0\n",
      "------------------HH------------------\n",
      "1\n",
      "-----------------HHHH-----------------\n",
      "2\n",
      "----------------HHHHHH----------------\n",
      "3\n",
      "---------------HHHHHHHH---------------\n",
      "4\n",
      "--------------HHHHHHHHHH--------------\n",
      "5\n",
      "-------------HHHHHHHHHHHH-------------\n",
      "6\n",
      "------------HHHHHHHHHHHHHH------------\n",
      "7\n",
      "-----------HHHHHHHHHHHHHHHH-----------\n",
      "8\n",
      "----------HHHHHHHHHHHHHHHHHH----------\n",
      "9\n",
      "---------HHHHHHHHHHHHHHHHHHHH---------\n",
      "10\n",
      "--------HHHHHHHHHHHHHHHHHHHHHH--------\n",
      "11\n",
      "-------HHHHHHHHHHHHHHHHHHHHHHHH-------\n",
      "12\n",
      "------HHHHHHHHHHHHHHHHHHHHHHHHHH------\n",
      "13\n",
      "-----HHHHHHHHHHHHHHHHHHHHHHHHHHHH-----\n",
      "14\n",
      "----HHHHHHHHHHHHHHHHHHHHHHHHHHHHHH----\n",
      "15\n",
      "---HHHHHHHHHHHHHHHHHHHHHHHHHHHHHHHH---\n",
      "16\n",
      "--HHHHHHHHHHHHHHHHHHHHHHHHHHHHHHHHHH--\n",
      "17\n",
      "-HHHHHHHHHHHHHHHHHHHHHHHHHHHHHHHHHHHH-\n",
      "18\n",
      "HHHHHHHHHHHHHHHHHHHHHHHHHHHHHHHHHHHHHH\n",
      "19\n"
     ]
    }
   ],
   "source": [
    "thickness = 20 \n",
    "c = 'H'\n",
    "for i in range(thickness):\n",
    "    print((c*i).rjust(thickness-1,'-')+(c*i).ljust(thickness-1,'-'))\n",
    "    print(i)"
   ]
  },
  {
   "cell_type": "code",
   "execution_count": 5,
   "metadata": {},
   "outputs": [
    {
     "name": "stdout",
     "output_type": "stream",
     "text": [
      "                   m                   \n",
      "                  DmH                  \n",
      "                 DDmHH                 \n",
      "                DDDmHHH                \n",
      "               DDDDmHHHH               \n",
      "              DDDDDmHHHHH              \n",
      "             DDDDDDmHHHHHH             \n",
      "            DDDDDDDmHHHHHHH            \n",
      "           DDDDDDDDmHHHHHHHH           \n",
      "          DDDDDDDDDmHHHHHHHHH          \n",
      "         DDDDDDDDDDmHHHHHHHHHH         \n",
      "        DDDDDDDDDDDmHHHHHHHHHHH        \n",
      "       DDDDDDDDDDDDmHHHHHHHHHHHH       \n",
      "      DDDDDDDDDDDDDmHHHHHHHHHHHHH      \n",
      "     DDDDDDDDDDDDDDmHHHHHHHHHHHHHH     \n",
      "    DDDDDDDDDDDDDDDmHHHHHHHHHHHHHHH    \n",
      "   DDDDDDDDDDDDDDDDmHHHHHHHHHHHHHHHH   \n",
      "  DDDDDDDDDDDDDDDDDmHHHHHHHHHHHHHHHHH  \n",
      " DDDDDDDDDDDDDDDDDDmHHHHHHHHHHHHHHHHHH \n",
      "DDDDDDDDDDDDDDDDDDDmHHHHHHHHHHHHHHHHHHH\n"
     ]
    }
   ],
   "source": [
    "thickness = 20 \n",
    "c = 'H'\n",
    "b='D'\n",
    "m='m'\n",
    "for i in range(thickness):\n",
    "    print((b*i).rjust(thickness-1)+m+(c*i).ljust(thickness-1))"
   ]
  },
  {
   "cell_type": "code",
   "execution_count": 6,
   "metadata": {},
   "outputs": [
    {
     "name": "stdout",
     "output_type": "stream",
     "text": [
      "--HHHHH---m------------HHHHH-------------\n",
      "--HHHHH---m------------HHHHH-------------\n",
      "--HHHHH---m------------HHHHH-------------\n",
      "--HHHHH---m------------HHHHH-------------\n",
      "--HHHHH---m------------HHHHH-------------\n",
      "--HHHHH---m------------HHHHH-------------\n"
     ]
    }
   ],
   "source": [
    "#Top Pillars\n",
    "thickness= 5\n",
    "for i in range(thickness+1):\n",
    "    print((c*thickness).center(thickness*2,'-')+m+(c*thickness).center(thickness*6,'-'))"
   ]
  },
  {
   "cell_type": "code",
   "execution_count": 7,
   "metadata": {},
   "outputs": [
    {
     "name": "stdout",
     "output_type": "stream",
     "text": [
      "--HHHHHHHHHHHHHHHHHHHHHHHHH---m\n",
      "--HHHHHHHHHHHHHHHHHHHHHHHHH---m\n",
      "--HHHHHHHHHHHHHHHHHHHHHHHHH---m\n"
     ]
    }
   ],
   "source": [
    "#Middle Belt\n",
    "thickness= 5\n",
    "for i in range((thickness+1)//2):\n",
    "    print((c*thickness*5).center(thickness*6,'-')+m)"
   ]
  },
  {
   "cell_type": "code",
   "execution_count": 8,
   "metadata": {},
   "outputs": [
    {
     "name": "stdout",
     "output_type": "stream",
     "text": [
      "                    HHHHHHHHH \n",
      "                     HHHHHHH  \n",
      "                      HHHHH   \n",
      "                       HHH    \n",
      "                        H     \n"
     ]
    }
   ],
   "source": [
    "#Bottom Cone\n",
    "thickness= 5\n",
    "for i in range(thickness):\n",
    "    print(((c*(thickness-i-1)).rjust(thickness)+c+(c*(thickness-i-1)).ljust(thickness)).rjust(thickness*6))"
   ]
  },
  {
   "cell_type": "code",
   "execution_count": 9,
   "metadata": {},
   "outputs": [
    {
     "name": "stdout",
     "output_type": "stream",
     "text": [
      "                                       -HHHHmHHHH-\n",
      "                                       --HHHmHHH--\n",
      "                                       ---HHmHH---\n",
      "                                       ----HmH----\n",
      "                                       -----m-----\n"
     ]
    }
   ],
   "source": [
    "#Bottom Cone\n",
    "thickness= 5\n",
    "c = 'H'\n",
    "for i in range(thickness):\n",
    "    print(((c*(thickness-i-1)).rjust(thickness,'-')+m+(c*(thickness-i-1)).ljust(thickness,'-')).rjust(thickness*10))"
   ]
  },
  {
   "cell_type": "code",
   "execution_count": null,
   "metadata": {},
   "outputs": [],
   "source": []
  },
  {
   "cell_type": "markdown",
   "metadata": {},
   "source": [
    "## Text Warp"
   ]
  },
  {
   "cell_type": "code",
   "execution_count": 10,
   "metadata": {},
   "outputs": [
    {
     "name": "stdout",
     "output_type": "stream",
     "text": [
      "['ArithmeticError']\n",
      "['ArithmeticError']\n",
      "['ArithmeticError']\n"
     ]
    }
   ],
   "source": [
    "# without built in function\n",
    "\n",
    "string ='ArithmeticError'\n",
    "w = 4\n",
    "\n",
    "\n",
    "string = string.split()\n",
    "print(string)\n",
    "\n",
    "\n",
    "list1 = [cha for cha in string]\n",
    "print(list1)\n",
    "\n",
    "warpedline = []\n",
    "for char in string:\n",
    "    warpedline.append(char)\n",
    "\n",
    "print(warpedline)"
   ]
  },
  {
   "cell_type": "code",
   "execution_count": 19,
   "metadata": {},
   "outputs": [
    {
     "name": "stdout",
     "output_type": "stream",
     "text": [
      "F\n",
      "l\n",
      "o\n",
      "a\n",
      "t\n",
      "i\n",
      "n\n",
      "g\n",
      "P\n",
      "o\n",
      "i\n",
      "n\n",
      "t\n",
      "E\n",
      "r\n",
      "r\n",
      "o\n",
      "r\n",
      "Flo\n",
      "ati\n",
      "ngP\n",
      "oin\n",
      "tEr\n",
      "ror\n"
     ]
    }
   ],
   "source": [
    "string = 'FloatingPointError'\n",
    "w = 3\n",
    "\n",
    "warpoutput = []\n",
    "\n",
    "for i in string:\n",
    "    warpoutput.append(i)\n",
    "\n",
    "for i in warpoutput:\n",
    "    print(i)\n",
    "\n",
    "for i in range(0, len(warpoutput), w):\n",
    "    print(\"\".join(warpoutput[i : i +w]))\n"
   ]
  },
  {
   "cell_type": "code",
   "execution_count": 16,
   "metadata": {},
   "outputs": [
    {
     "name": "stdout",
     "output_type": "stream",
     "text": [
      "Flo\n",
      "ati\n",
      "ngP\n",
      "oin\n",
      "tEr\n",
      "ror\n"
     ]
    }
   ],
   "source": [
    "def warp_every_n(string, n):\n",
    "    # Iterate through the string, printing every n characters\n",
    "    for i in range(0, len(string), n):\n",
    "        print(string[i : i + n])\n",
    "\n",
    "# Example usage\n",
    "my_string = 'FloatingPointError'\n",
    "warp_every_n(my_string, 3)\n"
   ]
  },
  {
   "cell_type": "code",
   "execution_count": 26,
   "metadata": {},
   "outputs": [
    {
     "name": "stdout",
     "output_type": "stream",
     "text": [
      "Conne\n",
      "ction\n",
      "Refus\n",
      "edErr\n",
      "or\n"
     ]
    }
   ],
   "source": [
    "# with built in wrapper function\n",
    "string ='ConnectionRefusedError'\n",
    "max_width = 5\n",
    "\n",
    "import textwrap\n",
    "\n",
    "def wrap(string, max_width):\n",
    "    return textwrap.fill(string, max_width)\n",
    "\n",
    "result = wrap(string,max_width)\n",
    "print(result)\n"
   ]
  },
  {
   "cell_type": "code",
   "execution_count": 68,
   "metadata": {},
   "outputs": [
    {
     "name": "stdout",
     "output_type": "stream",
     "text": [
      "Connec\n",
      "tionRe\n",
      "fusedE\n",
      "rror\n"
     ]
    }
   ],
   "source": [
    "def custom_split(string, chunk_size):\n",
    "    # Initialize an empty list to store the chunks\n",
    "    chunks = []\n",
    "\n",
    "    # Iterate through the string, adding each chunk to the list\n",
    "    for i in range(0, len(string), chunk_size):\n",
    "        chunks.append(string[i : i + chunk_size])\n",
    "\n",
    "    return chunks\n",
    "\n",
    "# Example usage\n",
    "my_string = 'ConnectionRefusedError'\n",
    "chunk_width = 6\n",
    "result = custom_split(my_string, chunk_width)\n",
    "\n",
    "# Print each chunk on a new line\n",
    "for chunk in result:\n",
    "    print(chunk)\n"
   ]
  },
  {
   "cell_type": "code",
   "execution_count": 27,
   "metadata": {},
   "outputs": [
    {
     "name": "stdout",
     "output_type": "stream",
     "text": [
      "Conne\n",
      "ction\n",
      "Refus\n",
      "edErr\n",
      "or\n"
     ]
    }
   ],
   "source": [
    "# with built in wrapper function\n",
    "string ='ConnectionRefusedError'\n",
    "max_width = 5\n",
    "\n",
    "import textwrap\n",
    "\n",
    "def wrap(string, max_width):\n",
    "\n",
    "    o = textwrap.wrap(string, max_width)\n",
    "    o = \"\\n\".join(o)\n",
    "    return o\n",
    "\n",
    "result = wrap(string,max_width)\n",
    "print(result)"
   ]
  },
  {
   "cell_type": "code",
   "execution_count": 30,
   "metadata": {},
   "outputs": [
    {
     "name": "stdout",
     "output_type": "stream",
     "text": [
      "['Co', 'nn', 'ec', 'ti', 'on', 'Re', 'fu', 'se', 'dE', 'rr', 'or']\n",
      "Con\n",
      "nec\n",
      "tio\n",
      "nRe\n",
      "fus\n",
      "edE\n",
      "rro\n",
      "r\n"
     ]
    }
   ],
   "source": [
    "string ='ConnectionRefusedError'\n",
    "\n",
    "print(textwrap.wrap(string,2))\n",
    "print(textwrap.fill(string,3))"
   ]
  },
  {
   "cell_type": "code",
   "execution_count": null,
   "metadata": {},
   "outputs": [],
   "source": []
  },
  {
   "cell_type": "markdown",
   "metadata": {},
   "source": [
    "## Designer Door Mat"
   ]
  },
  {
   "cell_type": "code",
   "execution_count": 24,
   "metadata": {},
   "outputs": [
    {
     "name": "stdout",
     "output_type": "stream",
     "text": [
      "H-------------------\n",
      "-------------------H\n",
      "-------WELCOME-------\n"
     ]
    }
   ],
   "source": [
    "print(('H').ljust(20,'-'))\n",
    "print(('H').rjust(20,'-'))\n",
    "print(('WELCOME').center(21,'-'))"
   ]
  },
  {
   "cell_type": "code",
   "execution_count": 38,
   "metadata": {},
   "outputs": [
    {
     "name": "stdout",
     "output_type": "stream",
     "text": [
      "--\n",
      ".|.\n",
      ".|..|.\n",
      ".|..|..|.\n",
      ".|..|..|..|.\n",
      ".|..|..|..|..|.\n",
      ".|..|..|..|..|..|.\n"
     ]
    }
   ],
   "source": [
    "for i in range(8-1):\n",
    "    print(('.|.'*i).rjust(2,'-'))"
   ]
  },
  {
   "cell_type": "code",
   "execution_count": 39,
   "metadata": {},
   "outputs": [
    {
     "name": "stdout",
     "output_type": "stream",
     "text": [
      "                   m                   \n",
      "                  DmH                  \n",
      "                 DDmHH                 \n",
      "                DDDmHHH                \n",
      "               DDDDmHHHH               \n",
      "              DDDDDmHHHHH              \n",
      "             DDDDDDmHHHHHH             \n",
      "            DDDDDDDmHHHHHHH            \n",
      "           DDDDDDDDmHHHHHHHH           \n",
      "          DDDDDDDDDmHHHHHHHHH          \n",
      "         DDDDDDDDDDmHHHHHHHHHH         \n",
      "        DDDDDDDDDDDmHHHHHHHHHHH        \n",
      "       DDDDDDDDDDDDmHHHHHHHHHHHH       \n",
      "      DDDDDDDDDDDDDmHHHHHHHHHHHHH      \n",
      "     DDDDDDDDDDDDDDmHHHHHHHHHHHHHH     \n",
      "    DDDDDDDDDDDDDDDmHHHHHHHHHHHHHHH    \n",
      "   DDDDDDDDDDDDDDDDmHHHHHHHHHHHHHHHH   \n",
      "  DDDDDDDDDDDDDDDDDmHHHHHHHHHHHHHHHHH  \n",
      " DDDDDDDDDDDDDDDDDDmHHHHHHHHHHHHHHHHHH \n",
      "DDDDDDDDDDDDDDDDDDDmHHHHHHHHHHHHHHHHHHH\n"
     ]
    }
   ],
   "source": [
    "thickness = 20 \n",
    "c = 'H'\n",
    "b='D'\n",
    "m='m'\n",
    "for i in range(thickness):\n",
    "    print((b*i).rjust(thickness-1)+m+(c*i).ljust(thickness-1))"
   ]
  },
  {
   "cell_type": "code",
   "execution_count": 61,
   "metadata": {},
   "outputs": [
    {
     "name": "stdout",
     "output_type": "stream",
     "text": [
      "-------------------DHD-------------------\n",
      "------------------DDHDD------------------\n",
      "-----------------DDDHDDD-----------------\n",
      "----------------DDDDHDDDD----------------\n",
      "---------------DDDDDHDDDDD---------------\n",
      "--------------DDDDDDHDDDDDD--------------\n",
      "-------------DDDDDDDHDDDDDDD-------------\n",
      "------------DDDDDDDDHDDDDDDDD------------\n",
      "-----------DDDDDDDDDHDDDDDDDDD-----------\n",
      "----------DDDDDDDDDDHDDDDDDDDDD----------\n",
      "---------DDDDDDDDDDDHDDDDDDDDDDD---------\n",
      "--------DDDDDDDDDDDDHDDDDDDDDDDDD--------\n",
      "-------DDDDDDDDDDDDDHDDDDDDDDDDDDD-------\n",
      "------DDDDDDDDDDDDDDHDDDDDDDDDDDDDD------\n",
      "-----DDDDDDDDDDDDDDDHDDDDDDDDDDDDDDD-----\n",
      "----DDDDDDDDDDDDDDDDHDDDDDDDDDDDDDDDD----\n",
      "---DDDDDDDDDDDDDDDDDHDDDDDDDDDDDDDDDDD---\n",
      "--DDDDDDDDDDDDDDDDDDHDDDDDDDDDDDDDDDDDD--\n",
      "-DDDDDDDDDDDDDDDDDDDHDDDDDDDDDDDDDDDDDDD-\n"
     ]
    }
   ],
   "source": [
    "thickness = 20\n",
    "c = 'H'\n",
    "b = 'D'\n",
    "m = 'm'\n",
    "\n",
    "\n",
    "# Loop to print the remaining lines\n",
    "for i in range(1, thickness):\n",
    "    print((b * i).rjust(thickness, '-') +c+ (b * i).ljust(thickness, '-'))\n",
    "\n",
    "\n"
   ]
  },
  {
   "cell_type": "code",
   "execution_count": null,
   "metadata": {},
   "outputs": [],
   "source": []
  }
 ],
 "metadata": {
  "kernelspec": {
   "display_name": "base",
   "language": "python",
   "name": "python3"
  },
  "language_info": {
   "codemirror_mode": {
    "name": "ipython",
    "version": 3
   },
   "file_extension": ".py",
   "mimetype": "text/x-python",
   "name": "python",
   "nbconvert_exporter": "python",
   "pygments_lexer": "ipython3",
   "version": "3.11.5"
  }
 },
 "nbformat": 4,
 "nbformat_minor": 2
}
