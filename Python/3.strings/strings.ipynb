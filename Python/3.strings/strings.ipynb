{
 "cells": [
  {
   "cell_type": "code",
   "execution_count": 1,
   "metadata": {},
   "outputs": [
    {
     "name": "stdout",
     "output_type": "stream",
     "text": [
      "Python 3.11.5\n",
      "pip 23.2.1 from D:\\Programs\\anaconda3\\Lib\\site-packages\\pip (python 3.11)\n",
      "\n"
     ]
    }
   ],
   "source": [
    "!python --version\n",
    "!pip --version"
   ]
  },
  {
   "cell_type": "markdown",
   "metadata": {},
   "source": [
    "## Text-alignment"
   ]
  },
  {
   "cell_type": "code",
   "execution_count": 3,
   "metadata": {},
   "outputs": [
    {
     "name": "stdout",
     "output_type": "stream",
     "text": [
      "60HHHHHHHHHHHHHHHHHHHHHHHHHHHH\n"
     ]
    }
   ],
   "source": [
    "width = 30\n",
    "print('60'.ljust(width,'H'))"
   ]
  },
  {
   "cell_type": "code",
   "execution_count": 4,
   "metadata": {},
   "outputs": [
    {
     "name": "stdout",
     "output_type": "stream",
     "text": [
      "H-------------------\n"
     ]
    }
   ],
   "source": [
    "print(('H').ljust(20,'-'))"
   ]
  },
  {
   "cell_type": "code",
   "execution_count": 5,
   "metadata": {},
   "outputs": [
    {
     "name": "stdout",
     "output_type": "stream",
     "text": [
      "--------------------------------------\n",
      "0\n",
      "------------------HH------------------\n",
      "1\n",
      "-----------------HHHH-----------------\n",
      "2\n",
      "----------------HHHHHH----------------\n",
      "3\n",
      "---------------HHHHHHHH---------------\n",
      "4\n",
      "--------------HHHHHHHHHH--------------\n",
      "5\n",
      "-------------HHHHHHHHHHHH-------------\n",
      "6\n",
      "------------HHHHHHHHHHHHHH------------\n",
      "7\n",
      "-----------HHHHHHHHHHHHHHHH-----------\n",
      "8\n",
      "----------HHHHHHHHHHHHHHHHHH----------\n",
      "9\n",
      "---------HHHHHHHHHHHHHHHHHHHH---------\n",
      "10\n",
      "--------HHHHHHHHHHHHHHHHHHHHHH--------\n",
      "11\n",
      "-------HHHHHHHHHHHHHHHHHHHHHHHH-------\n",
      "12\n",
      "------HHHHHHHHHHHHHHHHHHHHHHHHHH------\n",
      "13\n",
      "-----HHHHHHHHHHHHHHHHHHHHHHHHHHHH-----\n",
      "14\n",
      "----HHHHHHHHHHHHHHHHHHHHHHHHHHHHHH----\n",
      "15\n",
      "---HHHHHHHHHHHHHHHHHHHHHHHHHHHHHHHH---\n",
      "16\n",
      "--HHHHHHHHHHHHHHHHHHHHHHHHHHHHHHHHHH--\n",
      "17\n",
      "-HHHHHHHHHHHHHHHHHHHHHHHHHHHHHHHHHHHH-\n",
      "18\n",
      "HHHHHHHHHHHHHHHHHHHHHHHHHHHHHHHHHHHHHH\n",
      "19\n"
     ]
    }
   ],
   "source": [
    "thickness = 20 \n",
    "c = 'H'\n",
    "for i in range(thickness):\n",
    "    print((c*i).rjust(thickness-1,'-')+(c*i).ljust(thickness-1,'-'))\n",
    "    print(i)"
   ]
  },
  {
   "cell_type": "code",
   "execution_count": 6,
   "metadata": {},
   "outputs": [
    {
     "name": "stdout",
     "output_type": "stream",
     "text": [
      "                   m                   \n",
      "                  DmH                  \n",
      "                 DDmHH                 \n",
      "                DDDmHHH                \n",
      "               DDDDmHHHH               \n",
      "              DDDDDmHHHHH              \n",
      "             DDDDDDmHHHHHH             \n",
      "            DDDDDDDmHHHHHHH            \n",
      "           DDDDDDDDmHHHHHHHH           \n",
      "          DDDDDDDDDmHHHHHHHHH          \n",
      "         DDDDDDDDDDmHHHHHHHHHH         \n",
      "        DDDDDDDDDDDmHHHHHHHHHHH        \n",
      "       DDDDDDDDDDDDmHHHHHHHHHHHH       \n",
      "      DDDDDDDDDDDDDmHHHHHHHHHHHHH      \n",
      "     DDDDDDDDDDDDDDmHHHHHHHHHHHHHH     \n",
      "    DDDDDDDDDDDDDDDmHHHHHHHHHHHHHHH    \n",
      "   DDDDDDDDDDDDDDDDmHHHHHHHHHHHHHHHH   \n",
      "  DDDDDDDDDDDDDDDDDmHHHHHHHHHHHHHHHHH  \n",
      " DDDDDDDDDDDDDDDDDDmHHHHHHHHHHHHHHHHHH \n",
      "DDDDDDDDDDDDDDDDDDDmHHHHHHHHHHHHHHHHHHH\n"
     ]
    }
   ],
   "source": [
    "thickness = 20 \n",
    "c = 'H'\n",
    "b='D'\n",
    "m='m'\n",
    "for i in range(thickness):\n",
    "    print((b*i).rjust(thickness-1)+m+(c*i).ljust(thickness-1))"
   ]
  },
  {
   "cell_type": "code",
   "execution_count": 7,
   "metadata": {},
   "outputs": [
    {
     "name": "stdout",
     "output_type": "stream",
     "text": [
      "--HHHHH---m------------HHHHH-------------\n",
      "--HHHHH---m------------HHHHH-------------\n",
      "--HHHHH---m------------HHHHH-------------\n",
      "--HHHHH---m------------HHHHH-------------\n",
      "--HHHHH---m------------HHHHH-------------\n",
      "--HHHHH---m------------HHHHH-------------\n"
     ]
    }
   ],
   "source": [
    "#Top Pillars\n",
    "thickness= 5\n",
    "for i in range(thickness+1):\n",
    "    print((c*thickness).center(thickness*2,'-')+m+(c*thickness).center(thickness*6,'-'))"
   ]
  },
  {
   "cell_type": "code",
   "execution_count": 8,
   "metadata": {},
   "outputs": [
    {
     "name": "stdout",
     "output_type": "stream",
     "text": [
      "--HHHHHHHHHHHHHHHHHHHHHHHHH---m\n",
      "--HHHHHHHHHHHHHHHHHHHHHHHHH---m\n",
      "--HHHHHHHHHHHHHHHHHHHHHHHHH---m\n"
     ]
    }
   ],
   "source": [
    "#Middle Belt\n",
    "thickness= 5\n",
    "for i in range((thickness+1)//2):\n",
    "    print((c*thickness*5).center(thickness*6,'-')+m)"
   ]
  },
  {
   "cell_type": "code",
   "execution_count": 16,
   "metadata": {},
   "outputs": [
    {
     "name": "stdout",
     "output_type": "stream",
     "text": [
      "                    HHHHHHHHH \n",
      "                     HHHHHHH  \n",
      "                      HHHHH   \n",
      "                       HHH    \n",
      "                        H     \n"
     ]
    }
   ],
   "source": [
    "#Bottom Cone\n",
    "thickness= 5\n",
    "for i in range(thickness):\n",
    "    print(((c*(thickness-i-1)).rjust(thickness)+c+(c*(thickness-i-1)).ljust(thickness)).rjust(thickness*6))"
   ]
  },
  {
   "cell_type": "code",
   "execution_count": 38,
   "metadata": {},
   "outputs": [
    {
     "name": "stdout",
     "output_type": "stream",
     "text": [
      "                                       -HHHHmHHHH-\n",
      "                                       --HHHmHHH--\n",
      "                                       ---HHmHH---\n",
      "                                       ----HmH----\n",
      "                                       -----m-----\n"
     ]
    }
   ],
   "source": [
    "#Bottom Cone\n",
    "thickness= 5\n",
    "c = 'H'\n",
    "for i in range(thickness):\n",
    "    print(((c*(thickness-i-1)).rjust(thickness,'-')+m+(c*(thickness-i-1)).ljust(thickness,'-')).rjust(thickness*10))"
   ]
  },
  {
   "cell_type": "code",
   "execution_count": null,
   "metadata": {},
   "outputs": [],
   "source": []
  }
 ],
 "metadata": {
  "kernelspec": {
   "display_name": "base",
   "language": "python",
   "name": "python3"
  },
  "language_info": {
   "codemirror_mode": {
    "name": "ipython",
    "version": 3
   },
   "file_extension": ".py",
   "mimetype": "text/x-python",
   "name": "python",
   "nbconvert_exporter": "python",
   "pygments_lexer": "ipython3",
   "version": "3.11.5"
  }
 },
 "nbformat": 4,
 "nbformat_minor": 2
}
